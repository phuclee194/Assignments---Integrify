{
 "cells": [
  {
   "cell_type": "markdown",
   "metadata": {},
   "source": [
    "## NbDIME LIBRARY\n",
    "\n",
    "Nbdime provides tools for diffing and merging Jupyter notebooks.\n",
    "\n",
    "To get started with nbdime, install with pip:\n",
    "\n",
    "pip install nbdime\n",
    "\n",
    "You can view a rich web-based rendering of the diff with nbdiff-web:\n",
    "\n",
    "nbdiff-web notebook_1.ipynb notebook_2.ipynb\n",
    "\n",
    "## Git integration quickstart\n",
    "\n",
    "GIt doesn't handle diffing and merging notebooks very well by default.\n",
    "\n",
    "To configure all diff/merge drivers and tools, siply call:\n",
    "\n",
    "nbdime config-git (--enable | --disable) [--global | --system]\n",
    "\n",
    "## Notebook Extensions\n",
    "\n",
    "nbdime extensions --enable [--sys-prefix/--user/--system]\n",
    "\n",
    "Clicking button will open a new tab showing the diff between the last commit and the currently saved version of the notebook.\n",
    "\n",
    "This button will only be visible if the notebook is currently in a git repository\n",
    "\n",
    "\n"
   ]
  },
  {
   "cell_type": "markdown",
   "metadata": {
    "ExecuteTime": {
     "end_time": "2019-07-16T21:13:07.602904Z",
     "start_time": "2019-07-16T21:13:07.595269Z"
    }
   },
   "source": [
    "Link to github: \n",
    "    https://github.com/phuclee194/NBDIME\n",
    "        "
   ]
  },
  {
   "cell_type": "code",
   "execution_count": null,
   "metadata": {},
   "outputs": [],
   "source": []
  }
 ],
 "metadata": {
  "kernelspec": {
   "display_name": "Python 3",
   "language": "python",
   "name": "python3"
  },
  "language_info": {
   "codemirror_mode": {
    "name": "ipython",
    "version": 3
   },
   "file_extension": ".py",
   "mimetype": "text/x-python",
   "name": "python",
   "nbconvert_exporter": "python",
   "pygments_lexer": "ipython3",
   "version": "3.7.3"
  },
  "toc": {
   "base_numbering": 1,
   "nav_menu": {},
   "number_sections": true,
   "sideBar": true,
   "skip_h1_title": false,
   "title_cell": "Table of Contents",
   "title_sidebar": "Contents",
   "toc_cell": false,
   "toc_position": {},
   "toc_section_display": true,
   "toc_window_display": false
  },
  "varInspector": {
   "cols": {
    "lenName": 16,
    "lenType": 16,
    "lenVar": 40
   },
   "kernels_config": {
    "python": {
     "delete_cmd_postfix": "",
     "delete_cmd_prefix": "del ",
     "library": "var_list.py",
     "varRefreshCmd": "print(var_dic_list())"
    },
    "r": {
     "delete_cmd_postfix": ") ",
     "delete_cmd_prefix": "rm(",
     "library": "var_list.r",
     "varRefreshCmd": "cat(var_dic_list()) "
    }
   },
   "types_to_exclude": [
    "module",
    "function",
    "builtin_function_or_method",
    "instance",
    "_Feature"
   ],
   "window_display": false
  }
 },
 "nbformat": 4,
 "nbformat_minor": 2
}
