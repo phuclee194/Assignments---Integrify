{
 "cells": [
  {
   "cell_type": "markdown",
   "metadata": {},
   "source": [
    "## What effect does Covariance matrix effect on Bivariate Gaussian.\n",
    "The bivariate normal distribution is actually a special case of the multicariate normal distribution. \n",
    "The bivariate normal can be easily visualized, more than two variables poses problems with visualization. \n",
    "\n",
    "Covariance is actually the critical part in multivariate Gaussian distribution. The two major properties of the covariance matrix are:\n",
    ". Covariance matrix is positive semi-definite\n",
    ". Covariance matrix in multivariate Gaussian distribution is positive definite\n",
    "\n",
    "This is the pdf of Bivariate Normal Distribution: \n",
    "\n",
    "\\begin{align}\n",
    "f(x,y)=\\frac{\\exp \\left\\{ -\\frac 1{2(1-\\rho ^2)}\\left[ \\left( \\frac{x-\\mu _x%\n",
    "}{\\sigma _x}\\right) ^2-2\\rho \\left( \\frac{x-\\mu _x}{\\sigma _x}\\right) \\left(\n",
    "\\frac{y-\\mu _y}{\\sigma _y}\\right) +\\left( \\frac{y-\\mu _y}{\\sigma _y}\\right)\n",
    "^2\\right] \\right\\} }{2\\pi \\sigma _x\\sigma _y\\sqrt{1-\\rho ^2}}\n",
    "\\end{align}\n",
    "\n",
    "\n",
    "\n",
    "where $(\\mu _x,\\mu _y)$ is the mean vector and the variance-covariance\n",
    "matrix is\n",
    "\n",
    "\n",
    "\\begin{array}{cc}\n",
    "Var(X) & Cov(X,Y) \\\\\n",
    "Cov(X,Y) & Var(Y)\n",
    "\\end{array}\n",
    "\n",
    "\\begin{array}{cc}\n",
    "\\sigma _x^2 & \\rho \\sigma _x\\sigma _y \\\\\n",
    "\\rho \\sigma _x\\sigma _y & \\sigma _y^2\n",
    "\\end{array}\n",
    "\n",
    "\n",
    "Means of random variable specify only the centre of the distribution that display highest probability of the distribution\n",
    "\n",
    "How do properties of covariance matrix effect spread and orientation of the gaussian distribution ? :\n",
    "\n",
    "- Diagonal elements of covarience matrix which are variances specify the shape of the layers(is it eliptical or spherical). if the variances are equal, it will produce spherical layers, else elliptical layers will be produced. \n",
    "    -  Other parameters (covariance of x,y or y,x) specify the correlation structure that is orientation of the ellipses.If the covariance matrix is not diagonal as is like third sample below, there is no zeroes in the off diagonals which is effecting orientation of ellipses.\n"
   ]
  },
  {
   "cell_type": "code",
   "execution_count": null,
   "metadata": {},
   "outputs": [],
   "source": []
  }
 ],
 "metadata": {
  "kernelspec": {
   "display_name": "Python 3",
   "language": "python",
   "name": "python3"
  },
  "language_info": {
   "codemirror_mode": {
    "name": "ipython",
    "version": 3
   },
   "file_extension": ".py",
   "mimetype": "text/x-python",
   "name": "python",
   "nbconvert_exporter": "python",
   "pygments_lexer": "ipython3",
   "version": "3.7.3"
  },
  "toc": {
   "base_numbering": 1,
   "nav_menu": {},
   "number_sections": true,
   "sideBar": true,
   "skip_h1_title": false,
   "title_cell": "Table of Contents",
   "title_sidebar": "Contents",
   "toc_cell": false,
   "toc_position": {},
   "toc_section_display": true,
   "toc_window_display": false
  },
  "varInspector": {
   "cols": {
    "lenName": 16,
    "lenType": 16,
    "lenVar": 40
   },
   "kernels_config": {
    "python": {
     "delete_cmd_postfix": "",
     "delete_cmd_prefix": "del ",
     "library": "var_list.py",
     "varRefreshCmd": "print(var_dic_list())"
    },
    "r": {
     "delete_cmd_postfix": ") ",
     "delete_cmd_prefix": "rm(",
     "library": "var_list.r",
     "varRefreshCmd": "cat(var_dic_list()) "
    }
   },
   "types_to_exclude": [
    "module",
    "function",
    "builtin_function_or_method",
    "instance",
    "_Feature"
   ],
   "window_display": false
  }
 },
 "nbformat": 4,
 "nbformat_minor": 2
}
