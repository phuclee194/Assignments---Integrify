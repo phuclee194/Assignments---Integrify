{
 "cells": [
  {
   "cell_type": "markdown",
   "metadata": {
    "ExecuteTime": {
     "end_time": "2019-07-16T08:57:46.487119Z",
     "start_time": "2019-07-16T08:57:46.481444Z"
    }
   },
   "source": [
    "## Assignment on EIG + COV\n",
    "1. How does the EIG command work on pseudocode level\n",
    "   Write out the main formular\n",
    "   \n",
    "   Syntax: \n",
    "       e = eig(A)\n",
    "       [V,D] = eig(A)\n",
    "       [V,D,W] = eig(A)\n",
    "       \n",
    "       e = eig (A,B)\n",
    "       [V,D] = eig(A,B)\n",
    "       [V,D,W] = eig (A,B)\n",
    "       \n",
    "    Description: \n",
    "    e = eig(A) returns a column vector containing the eigenvalues of square matrix A\n",
    "    \n",
    "    [V,D] = eig(A) returns diagonalmatrix D of eigenvalues and matrix V whose columns are the corresphonging right eigenvectors. so that A*V = V*D\n",
    "    \n",
    "    [V,D,W] = eig(A) also returns full matrix W whose column are the corresphong left eigenvectors, so that W' * A = D* W'\n",
    "    \n",
    "    e = eig(A,B) returns a column vector containing the generalized eigenvalues of square matrices A and B\n",
    "    \n",
    "    [V,D] = eig(A,B) returns a column vector containing the generalized eigenvalues and full matrix V whose columns are the corresponding right eigenvectors so that A*V = B*V*D\n",
    "    \n",
    "    [V,D,W] = eig(A,B) also returns full matrix W whose columns are the corresponding left eigenvectors, so that W'*A = D*W'*B\n",
    "    \n",
    "   \n",
    "   \n",
    "   "
   ]
  },
  {
   "cell_type": "markdown",
   "metadata": {},
   "source": []
  },
  {
   "cell_type": "code",
   "execution_count": null,
   "metadata": {},
   "outputs": [],
   "source": []
  }
 ],
 "metadata": {
  "kernelspec": {
   "display_name": "Python 3",
   "language": "python",
   "name": "python3"
  },
  "language_info": {
   "codemirror_mode": {
    "name": "ipython",
    "version": 3
   },
   "file_extension": ".py",
   "mimetype": "text/x-python",
   "name": "python",
   "nbconvert_exporter": "python",
   "pygments_lexer": "ipython3",
   "version": "3.7.3"
  },
  "toc": {
   "base_numbering": 1,
   "nav_menu": {},
   "number_sections": true,
   "sideBar": true,
   "skip_h1_title": false,
   "title_cell": "Table of Contents",
   "title_sidebar": "Contents",
   "toc_cell": false,
   "toc_position": {},
   "toc_section_display": true,
   "toc_window_display": false
  },
  "varInspector": {
   "cols": {
    "lenName": 16,
    "lenType": 16,
    "lenVar": 40
   },
   "kernels_config": {
    "python": {
     "delete_cmd_postfix": "",
     "delete_cmd_prefix": "del ",
     "library": "var_list.py",
     "varRefreshCmd": "print(var_dic_list())"
    },
    "r": {
     "delete_cmd_postfix": ") ",
     "delete_cmd_prefix": "rm(",
     "library": "var_list.r",
     "varRefreshCmd": "cat(var_dic_list()) "
    }
   },
   "types_to_exclude": [
    "module",
    "function",
    "builtin_function_or_method",
    "instance",
    "_Feature"
   ],
   "window_display": false
  }
 },
 "nbformat": 4,
 "nbformat_minor": 2
}
